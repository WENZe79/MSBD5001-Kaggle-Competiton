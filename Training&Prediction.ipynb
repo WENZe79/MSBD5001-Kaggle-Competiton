{
  "nbformat": 4,
  "nbformat_minor": 0,
  "metadata": {
    "colab": {
      "name": "1.ipynb",
      "provenance": []
    },
    "kernelspec": {
      "name": "python3",
      "display_name": "Python 3"
    },
    "accelerator": "GPU"
  },
  "cells": [
    {
      "cell_type": "code",
      "metadata": {
        "colab": {
          "base_uri": "https://localhost:8080/"
        },
        "id": "vbUkCuWhZyFU",
        "outputId": "5a84436a-ba98-4717-b651-fb0e16585c78"
      },
      "source": [
        "#set the current directory for reading the .csv files more easily\n",
        "from google.colab import drive\n",
        "drive.mount('/content/drive')\n",
        "import os\n",
        "os.chdir('/content/drive/My Drive/Colab Notebooks/kaggle')"
      ],
      "execution_count": 1,
      "outputs": [
        {
          "output_type": "stream",
          "text": [
            "Mounted at /content/drive\n"
          ],
          "name": "stdout"
        }
      ]
    },
    {
      "cell_type": "code",
      "metadata": {
        "id": "GpguAwMHfblk"
      },
      "source": [
        "#import the necessary packages\n",
        "#import the model XGBoost\n",
        "import numpy as np\n",
        "from sklearn import datasets\n",
        "from sklearn import metrics\n",
        "import pandas as pd\n",
        "import matplotlib.pyplot as plt\n",
        "import matplotlib as mpl\n",
        "from sklearn import neighbors\n",
        "from sklearn.utils import shuffle\n",
        "from sklearn.linear_model import LinearRegression\n",
        "from sklearn.model_selection import train_test_split, cross_val_predict\n",
        "from sklearn.model_selection import cross_val_score, GridSearchCV\n",
        "import xgboost as xgb\n",
        "from xgboost import XGBRegressor"
      ],
      "execution_count": 2,
      "outputs": []
    },
    {
      "cell_type": "code",
      "metadata": {
        "id": "By0iBpPsgB37",
        "colab": {
          "base_uri": "https://localhost:8080/",
          "height": 406
        },
        "outputId": "8eb0c5e7-de5c-4131-8b64-33e991c078ad"
      },
      "source": [
        "#read the cleaned data\n",
        "import_train_data = pd.read_csv(\"trainingdata_cleaned-1.csv\")\n",
        "import_test_data = pd.read_csv(\"testingdata_cleaned-1.csv\")\n",
        "submission = pd.read_csv(\"sampleSubmission.csv\")\n",
        "import_test_data"
      ],
      "execution_count": 3,
      "outputs": [
        {
          "output_type": "execute_result",
          "data": {
            "text/html": [
              "<div>\n",
              "<style scoped>\n",
              "    .dataframe tbody tr th:only-of-type {\n",
              "        vertical-align: middle;\n",
              "    }\n",
              "\n",
              "    .dataframe tbody tr th {\n",
              "        vertical-align: top;\n",
              "    }\n",
              "\n",
              "    .dataframe thead th {\n",
              "        text-align: right;\n",
              "    }\n",
              "</style>\n",
              "<table border=\"1\" class=\"dataframe\">\n",
              "  <thead>\n",
              "    <tr style=\"text-align: right;\">\n",
              "      <th></th>\n",
              "      <th>id</th>\n",
              "      <th>hour</th>\n",
              "      <th>month</th>\n",
              "      <th>day</th>\n",
              "      <th>year</th>\n",
              "      <th>weekday</th>\n",
              "      <th>holiday</th>\n",
              "      <th>tempC</th>\n",
              "      <th>visibility</th>\n",
              "      <th>winddirDegree</th>\n",
              "      <th>windspeedKmph</th>\n",
              "      <th>humidity</th>\n",
              "      <th>cloudcover</th>\n",
              "      <th>WindChillC</th>\n",
              "      <th>speed</th>\n",
              "    </tr>\n",
              "  </thead>\n",
              "  <tbody>\n",
              "    <tr>\n",
              "      <th>0</th>\n",
              "      <td>0</td>\n",
              "      <td>2</td>\n",
              "      <td>1</td>\n",
              "      <td>1</td>\n",
              "      <td>2018</td>\n",
              "      <td>0</td>\n",
              "      <td>1</td>\n",
              "      <td>19</td>\n",
              "      <td>10</td>\n",
              "      <td>65</td>\n",
              "      <td>12</td>\n",
              "      <td>63</td>\n",
              "      <td>23</td>\n",
              "      <td>18</td>\n",
              "      <td>0</td>\n",
              "    </tr>\n",
              "    <tr>\n",
              "      <th>1</th>\n",
              "      <td>1</td>\n",
              "      <td>5</td>\n",
              "      <td>1</td>\n",
              "      <td>1</td>\n",
              "      <td>2018</td>\n",
              "      <td>0</td>\n",
              "      <td>1</td>\n",
              "      <td>19</td>\n",
              "      <td>10</td>\n",
              "      <td>65</td>\n",
              "      <td>12</td>\n",
              "      <td>63</td>\n",
              "      <td>23</td>\n",
              "      <td>18</td>\n",
              "      <td>0</td>\n",
              "    </tr>\n",
              "    <tr>\n",
              "      <th>2</th>\n",
              "      <td>2</td>\n",
              "      <td>7</td>\n",
              "      <td>1</td>\n",
              "      <td>1</td>\n",
              "      <td>2018</td>\n",
              "      <td>0</td>\n",
              "      <td>1</td>\n",
              "      <td>19</td>\n",
              "      <td>10</td>\n",
              "      <td>65</td>\n",
              "      <td>12</td>\n",
              "      <td>63</td>\n",
              "      <td>23</td>\n",
              "      <td>18</td>\n",
              "      <td>0</td>\n",
              "    </tr>\n",
              "    <tr>\n",
              "      <th>3</th>\n",
              "      <td>3</td>\n",
              "      <td>8</td>\n",
              "      <td>1</td>\n",
              "      <td>1</td>\n",
              "      <td>2018</td>\n",
              "      <td>0</td>\n",
              "      <td>1</td>\n",
              "      <td>19</td>\n",
              "      <td>10</td>\n",
              "      <td>65</td>\n",
              "      <td>12</td>\n",
              "      <td>63</td>\n",
              "      <td>23</td>\n",
              "      <td>18</td>\n",
              "      <td>0</td>\n",
              "    </tr>\n",
              "    <tr>\n",
              "      <th>4</th>\n",
              "      <td>4</td>\n",
              "      <td>10</td>\n",
              "      <td>1</td>\n",
              "      <td>1</td>\n",
              "      <td>2018</td>\n",
              "      <td>0</td>\n",
              "      <td>1</td>\n",
              "      <td>19</td>\n",
              "      <td>10</td>\n",
              "      <td>65</td>\n",
              "      <td>12</td>\n",
              "      <td>63</td>\n",
              "      <td>23</td>\n",
              "      <td>18</td>\n",
              "      <td>0</td>\n",
              "    </tr>\n",
              "    <tr>\n",
              "      <th>...</th>\n",
              "      <td>...</td>\n",
              "      <td>...</td>\n",
              "      <td>...</td>\n",
              "      <td>...</td>\n",
              "      <td>...</td>\n",
              "      <td>...</td>\n",
              "      <td>...</td>\n",
              "      <td>...</td>\n",
              "      <td>...</td>\n",
              "      <td>...</td>\n",
              "      <td>...</td>\n",
              "      <td>...</td>\n",
              "      <td>...</td>\n",
              "      <td>...</td>\n",
              "      <td>...</td>\n",
              "    </tr>\n",
              "    <tr>\n",
              "      <th>3499</th>\n",
              "      <td>3499</td>\n",
              "      <td>17</td>\n",
              "      <td>12</td>\n",
              "      <td>31</td>\n",
              "      <td>2018</td>\n",
              "      <td>0</td>\n",
              "      <td>0</td>\n",
              "      <td>12</td>\n",
              "      <td>10</td>\n",
              "      <td>138</td>\n",
              "      <td>18</td>\n",
              "      <td>69</td>\n",
              "      <td>79</td>\n",
              "      <td>10</td>\n",
              "      <td>0</td>\n",
              "    </tr>\n",
              "    <tr>\n",
              "      <th>3500</th>\n",
              "      <td>3500</td>\n",
              "      <td>19</td>\n",
              "      <td>12</td>\n",
              "      <td>31</td>\n",
              "      <td>2018</td>\n",
              "      <td>0</td>\n",
              "      <td>0</td>\n",
              "      <td>12</td>\n",
              "      <td>10</td>\n",
              "      <td>138</td>\n",
              "      <td>18</td>\n",
              "      <td>69</td>\n",
              "      <td>79</td>\n",
              "      <td>10</td>\n",
              "      <td>0</td>\n",
              "    </tr>\n",
              "    <tr>\n",
              "      <th>3501</th>\n",
              "      <td>3501</td>\n",
              "      <td>21</td>\n",
              "      <td>12</td>\n",
              "      <td>31</td>\n",
              "      <td>2018</td>\n",
              "      <td>0</td>\n",
              "      <td>0</td>\n",
              "      <td>12</td>\n",
              "      <td>10</td>\n",
              "      <td>138</td>\n",
              "      <td>18</td>\n",
              "      <td>69</td>\n",
              "      <td>79</td>\n",
              "      <td>10</td>\n",
              "      <td>0</td>\n",
              "    </tr>\n",
              "    <tr>\n",
              "      <th>3502</th>\n",
              "      <td>3502</td>\n",
              "      <td>22</td>\n",
              "      <td>12</td>\n",
              "      <td>31</td>\n",
              "      <td>2018</td>\n",
              "      <td>0</td>\n",
              "      <td>0</td>\n",
              "      <td>12</td>\n",
              "      <td>10</td>\n",
              "      <td>138</td>\n",
              "      <td>18</td>\n",
              "      <td>69</td>\n",
              "      <td>79</td>\n",
              "      <td>10</td>\n",
              "      <td>0</td>\n",
              "    </tr>\n",
              "    <tr>\n",
              "      <th>3503</th>\n",
              "      <td>3503</td>\n",
              "      <td>23</td>\n",
              "      <td>12</td>\n",
              "      <td>31</td>\n",
              "      <td>2018</td>\n",
              "      <td>0</td>\n",
              "      <td>0</td>\n",
              "      <td>12</td>\n",
              "      <td>10</td>\n",
              "      <td>138</td>\n",
              "      <td>18</td>\n",
              "      <td>69</td>\n",
              "      <td>79</td>\n",
              "      <td>10</td>\n",
              "      <td>0</td>\n",
              "    </tr>\n",
              "  </tbody>\n",
              "</table>\n",
              "<p>3504 rows × 15 columns</p>\n",
              "</div>"
            ],
            "text/plain": [
              "        id  hour  month  day  ...  humidity  cloudcover  WindChillC  speed\n",
              "0        0     2      1    1  ...        63          23          18      0\n",
              "1        1     5      1    1  ...        63          23          18      0\n",
              "2        2     7      1    1  ...        63          23          18      0\n",
              "3        3     8      1    1  ...        63          23          18      0\n",
              "4        4    10      1    1  ...        63          23          18      0\n",
              "...    ...   ...    ...  ...  ...       ...         ...         ...    ...\n",
              "3499  3499    17     12   31  ...        69          79          10      0\n",
              "3500  3500    19     12   31  ...        69          79          10      0\n",
              "3501  3501    21     12   31  ...        69          79          10      0\n",
              "3502  3502    22     12   31  ...        69          79          10      0\n",
              "3503  3503    23     12   31  ...        69          79          10      0\n",
              "\n",
              "[3504 rows x 15 columns]"
            ]
          },
          "metadata": {
            "tags": []
          },
          "execution_count": 3
        }
      ]
    },
    {
      "cell_type": "code",
      "metadata": {
        "id": "qBnHWKgsvNiJ"
      },
      "source": [
        "input_features=import_train_data[['holiday','hour','month','day','year','weekday','tempC','visibility','winddirDegree','windspeedKmph','humidity','cloudcover','WindChillC']]\n",
        "prediction_input=import_test_data[['holiday','hour','month','day','year','weekday','tempC','visibility','winddirDegree','windspeedKmph','humidity','cloudcover','WindChillC']]\n",
        "input_target=import_train_data[['speed']]"
      ],
      "execution_count": 4,
      "outputs": []
    },
    {
      "cell_type": "code",
      "metadata": {
        "id": "vMBMT99Tq_le"
      },
      "source": [
        "#divide the test data\n",
        "X_train, X_test, y_train, y_test = train_test_split(input_features, input_target, test_size=0.01, random_state=1)"
      ],
      "execution_count": 5,
      "outputs": []
    },
    {
      "cell_type": "code",
      "metadata": {
        "id": "JoJWeksHnlcq",
        "colab": {
          "base_uri": "https://localhost:8080/"
        },
        "outputId": "86340586-8826-4833-9767-5e7b1537ec7d"
      },
      "source": [
        "model = xgb.XGBRegressor(base_score=0.7, booster='gbtree', colsample_bylevel=1,\n",
        "             colsample_bynode=1, colsample_bytree=1, gamma=0.85,\n",
        "             importance_type='gain', learning_rate=0.08, max_delta_step=0,\n",
        "             max_depth=6, min_child_weight=1, missing=None, n_estimators=580,\n",
        "             n_jobs=1, nthread=None, objective='reg:linear', random_state=0,\n",
        "             reg_alpha=0, reg_lambda=1, scale_pos_weight=1, seed=None,\n",
        "             silent=None, subsample=0.7, verbosity=1)\n",
        "model.fit(X_train, y_train)"
      ],
      "execution_count": 6,
      "outputs": [
        {
          "output_type": "stream",
          "text": [
            "[12:59:49] WARNING: /workspace/src/objective/regression_obj.cu:152: reg:linear is now deprecated in favor of reg:squarederror.\n"
          ],
          "name": "stdout"
        },
        {
          "output_type": "execute_result",
          "data": {
            "text/plain": [
              "XGBRegressor(base_score=0.7, booster='gbtree', colsample_bylevel=1,\n",
              "             colsample_bynode=1, colsample_bytree=1, gamma=0.85,\n",
              "             importance_type='gain', learning_rate=0.08, max_delta_step=0,\n",
              "             max_depth=6, min_child_weight=1, missing=None, n_estimators=580,\n",
              "             n_jobs=1, nthread=None, objective='reg:linear', random_state=0,\n",
              "             reg_alpha=0, reg_lambda=1, scale_pos_weight=1, seed=None,\n",
              "             silent=None, subsample=0.7, verbosity=1)"
            ]
          },
          "metadata": {
            "tags": []
          },
          "execution_count": 6
        }
      ]
    },
    {
      "cell_type": "code",
      "metadata": {
        "id": "KbMLoL34pqAr",
        "colab": {
          "base_uri": "https://localhost:8080/"
        },
        "outputId": "ffe2874b-b92f-4fe1-d439-364f339e5cfb"
      },
      "source": [
        "y_prediction = model.predict(X_test)\n",
        "#output the MSE\n",
        "MSE = metrics.mean_squared_error(y_test, y_prediction)\n",
        "print('MSE:',MSE)"
      ],
      "execution_count": 7,
      "outputs": [
        {
          "output_type": "stream",
          "text": [
            "MSE: 7.949155599455978\n"
          ],
          "name": "stdout"
        }
      ]
    },
    {
      "cell_type": "code",
      "metadata": {
        "id": "40IrwKorABjp",
        "colab": {
          "base_uri": "https://localhost:8080/"
        },
        "outputId": "a0c50697-9459-4229-c077-ea4eb4637cc5"
      },
      "source": [
        "#implement the prediction for testing dataset\n",
        "submission_speed = model.predict(prediction_input)\n",
        "submission_speed = pd.DataFrame(submission_speed)\n",
        "print(submission_speed)"
      ],
      "execution_count": 8,
      "outputs": [
        {
          "output_type": "stream",
          "text": [
            "              0\n",
            "0     48.205376\n",
            "1     48.265476\n",
            "2     39.312901\n",
            "3     30.481630\n",
            "4     39.188168\n",
            "...         ...\n",
            "3499  12.140996\n",
            "3500  24.600855\n",
            "3501  48.416721\n",
            "3502  41.432034\n",
            "3503  44.516960\n",
            "\n",
            "[3504 rows x 1 columns]\n"
          ],
          "name": "stdout"
        }
      ]
    },
    {
      "cell_type": "code",
      "metadata": {
        "id": "HKVfuR5zEbb8",
        "colab": {
          "base_uri": "https://localhost:8080/"
        },
        "outputId": "57b87598-8f82-4251-bebb-db5cddc672d4"
      },
      "source": [
        "submission[\"speed\"] = submission_speed\n",
        "print(submission)"
      ],
      "execution_count": 9,
      "outputs": [
        {
          "output_type": "stream",
          "text": [
            "        id      speed\n",
            "0        0  48.205376\n",
            "1        1  48.265476\n",
            "2        2  39.312901\n",
            "3        3  30.481630\n",
            "4        4  39.188168\n",
            "...    ...        ...\n",
            "3499  3499  12.140996\n",
            "3500  3500  24.600855\n",
            "3501  3501  48.416721\n",
            "3502  3502  41.432034\n",
            "3503  3503  44.516960\n",
            "\n",
            "[3504 rows x 2 columns]\n"
          ],
          "name": "stdout"
        }
      ]
    },
    {
      "cell_type": "code",
      "metadata": {
        "id": "F29oUmm0FFrw"
      },
      "source": [
        "submission.to_csv(\"submit_final.csv\", index=False)"
      ],
      "execution_count": 10,
      "outputs": []
    },
    {
      "cell_type": "code",
      "metadata": {
        "id": "ZBAH_zVCFooZ"
      },
      "source": [
        ""
      ],
      "execution_count": 10,
      "outputs": []
    }
  ]
}